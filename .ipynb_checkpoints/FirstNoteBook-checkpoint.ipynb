{
 "cells": [
  {
   "cell_type": "code",
   "execution_count": 2,
   "id": "a31b6f71-284b-4d80-9dd7-032eb5347e83",
   "metadata": {},
   "outputs": [
    {
     "name": "stdout",
     "output_type": "stream",
     "text": [
      "10\n"
     ]
    }
   ],
   "source": [
    "Variable = 5 + 5\n",
    "print(Variable)"
   ]
  },
  {
   "cell_type": "markdown",
   "id": "d743c7a2-ecda-42ac-9af7-0f18f179d6b0",
   "metadata": {},
   "source": [
    "b = 'String' \n",
    "c = 'Variable'\n",
    "print(b+c)\n",
    "StringVariable"
   ]
  }
 ],
 "metadata": {
  "kernelspec": {
   "display_name": "Python 3 (ipykernel)",
   "language": "python",
   "name": "python3"
  },
  "language_info": {
   "codemirror_mode": {
    "name": "ipython",
    "version": 3
   },
   "file_extension": ".py",
   "mimetype": "text/x-python",
   "name": "python",
   "nbconvert_exporter": "python",
   "pygments_lexer": "ipython3",
   "version": "3.9.12"
  }
 },
 "nbformat": 4,
 "nbformat_minor": 5
}
